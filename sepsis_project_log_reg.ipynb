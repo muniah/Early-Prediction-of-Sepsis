{
 "cells": [
  {
   "cell_type": "code",
   "execution_count": 1,
   "metadata": {},
   "outputs": [],
   "source": [
    "import os\n",
    "import numpy as np\n",
    "import pandas as pd\n",
    "\n",
    "#set working directory\n",
    "current_working_dir = os.getcwd()\n",
    "training_ds_dir = \"training_setA\"\n",
    "\n",
    "training_setA_path = os.path.join(current_working_dir, training_ds_dir)\n",
    "\n",
    "# get list of files\n",
    "files = [f for f in os.listdir(training_setA_path) if os.path.isfile(os.path.join(training_setA_path, f))]\n",
    "\n",
    "files = files[:100]\n",
    "\n",
    "# build list of dataframes, adding \"id\" column\n",
    "dfs_a = [pd.read_csv(os.path.join(training_setA_path, f), sep='|', index_col=None).assign(id=f[1:7]) for f in files] \n",
    "\n",
    "# concatenate dataframes into one\n",
    "df_a = pd.concat(dfs_a, sort=False, ignore_index= True)\n",
    "\n",
    "# write to csv\n",
    "df_a.to_csv('train_a.csv', index=False)\n",
    "\n",
    "# read into dataframe\n",
    "train_a_df = pd.read_csv('train_a.csv', sep= ',')\n"
   ]
  },
  {
   "cell_type": "code",
   "execution_count": 2,
   "metadata": {},
   "outputs": [
    {
     "data": {
      "text/html": [
       "<div>\n",
       "<style scoped>\n",
       "    .dataframe tbody tr th:only-of-type {\n",
       "        vertical-align: middle;\n",
       "    }\n",
       "\n",
       "    .dataframe tbody tr th {\n",
       "        vertical-align: top;\n",
       "    }\n",
       "\n",
       "    .dataframe thead th {\n",
       "        text-align: right;\n",
       "    }\n",
       "</style>\n",
       "<table border=\"1\" class=\"dataframe\">\n",
       "  <thead>\n",
       "    <tr style=\"text-align: right;\">\n",
       "      <th></th>\n",
       "      <th>HR</th>\n",
       "      <th>O2Sat</th>\n",
       "      <th>Temp</th>\n",
       "      <th>SBP</th>\n",
       "      <th>MAP</th>\n",
       "      <th>DBP</th>\n",
       "      <th>Resp</th>\n",
       "      <th>EtCO2</th>\n",
       "      <th>BaseExcess</th>\n",
       "      <th>HCO3</th>\n",
       "      <th>...</th>\n",
       "      <th>Fibrinogen</th>\n",
       "      <th>Platelets</th>\n",
       "      <th>Age</th>\n",
       "      <th>Gender</th>\n",
       "      <th>Unit1</th>\n",
       "      <th>Unit2</th>\n",
       "      <th>HospAdmTime</th>\n",
       "      <th>ICULOS</th>\n",
       "      <th>SepsisLabel</th>\n",
       "      <th>id</th>\n",
       "    </tr>\n",
       "  </thead>\n",
       "  <tbody>\n",
       "    <tr>\n",
       "      <td>0</td>\n",
       "      <td>NaN</td>\n",
       "      <td>NaN</td>\n",
       "      <td>NaN</td>\n",
       "      <td>NaN</td>\n",
       "      <td>NaN</td>\n",
       "      <td>NaN</td>\n",
       "      <td>NaN</td>\n",
       "      <td>NaN</td>\n",
       "      <td>NaN</td>\n",
       "      <td>NaN</td>\n",
       "      <td>...</td>\n",
       "      <td>NaN</td>\n",
       "      <td>NaN</td>\n",
       "      <td>59</td>\n",
       "      <td>1</td>\n",
       "      <td>1.0</td>\n",
       "      <td>0.0</td>\n",
       "      <td>-6.01</td>\n",
       "      <td>1</td>\n",
       "      <td>0</td>\n",
       "      <td>116812</td>\n",
       "    </tr>\n",
       "    <tr>\n",
       "      <td>1</td>\n",
       "      <td>102.0</td>\n",
       "      <td>100.0</td>\n",
       "      <td>NaN</td>\n",
       "      <td>NaN</td>\n",
       "      <td>NaN</td>\n",
       "      <td>NaN</td>\n",
       "      <td>22.0</td>\n",
       "      <td>NaN</td>\n",
       "      <td>NaN</td>\n",
       "      <td>NaN</td>\n",
       "      <td>...</td>\n",
       "      <td>NaN</td>\n",
       "      <td>NaN</td>\n",
       "      <td>59</td>\n",
       "      <td>1</td>\n",
       "      <td>1.0</td>\n",
       "      <td>0.0</td>\n",
       "      <td>-6.01</td>\n",
       "      <td>2</td>\n",
       "      <td>0</td>\n",
       "      <td>116812</td>\n",
       "    </tr>\n",
       "    <tr>\n",
       "      <td>2</td>\n",
       "      <td>102.0</td>\n",
       "      <td>100.0</td>\n",
       "      <td>NaN</td>\n",
       "      <td>99.0</td>\n",
       "      <td>84.0</td>\n",
       "      <td>76.0</td>\n",
       "      <td>18.5</td>\n",
       "      <td>NaN</td>\n",
       "      <td>NaN</td>\n",
       "      <td>NaN</td>\n",
       "      <td>...</td>\n",
       "      <td>NaN</td>\n",
       "      <td>NaN</td>\n",
       "      <td>59</td>\n",
       "      <td>1</td>\n",
       "      <td>1.0</td>\n",
       "      <td>0.0</td>\n",
       "      <td>-6.01</td>\n",
       "      <td>3</td>\n",
       "      <td>0</td>\n",
       "      <td>116812</td>\n",
       "    </tr>\n",
       "    <tr>\n",
       "      <td>3</td>\n",
       "      <td>124.0</td>\n",
       "      <td>100.0</td>\n",
       "      <td>NaN</td>\n",
       "      <td>97.0</td>\n",
       "      <td>70.0</td>\n",
       "      <td>55.0</td>\n",
       "      <td>16.0</td>\n",
       "      <td>NaN</td>\n",
       "      <td>NaN</td>\n",
       "      <td>NaN</td>\n",
       "      <td>...</td>\n",
       "      <td>NaN</td>\n",
       "      <td>NaN</td>\n",
       "      <td>59</td>\n",
       "      <td>1</td>\n",
       "      <td>1.0</td>\n",
       "      <td>0.0</td>\n",
       "      <td>-6.01</td>\n",
       "      <td>4</td>\n",
       "      <td>0</td>\n",
       "      <td>116812</td>\n",
       "    </tr>\n",
       "    <tr>\n",
       "      <td>4</td>\n",
       "      <td>98.0</td>\n",
       "      <td>100.0</td>\n",
       "      <td>NaN</td>\n",
       "      <td>95.0</td>\n",
       "      <td>73.0</td>\n",
       "      <td>62.0</td>\n",
       "      <td>18.0</td>\n",
       "      <td>NaN</td>\n",
       "      <td>NaN</td>\n",
       "      <td>NaN</td>\n",
       "      <td>...</td>\n",
       "      <td>NaN</td>\n",
       "      <td>276.0</td>\n",
       "      <td>59</td>\n",
       "      <td>1</td>\n",
       "      <td>1.0</td>\n",
       "      <td>0.0</td>\n",
       "      <td>-6.01</td>\n",
       "      <td>5</td>\n",
       "      <td>0</td>\n",
       "      <td>116812</td>\n",
       "    </tr>\n",
       "  </tbody>\n",
       "</table>\n",
       "<p>5 rows × 42 columns</p>\n",
       "</div>"
      ],
      "text/plain": [
       "      HR  O2Sat  Temp   SBP   MAP   DBP  Resp  EtCO2  BaseExcess  HCO3  ...  \\\n",
       "0    NaN    NaN   NaN   NaN   NaN   NaN   NaN    NaN         NaN   NaN  ...   \n",
       "1  102.0  100.0   NaN   NaN   NaN   NaN  22.0    NaN         NaN   NaN  ...   \n",
       "2  102.0  100.0   NaN  99.0  84.0  76.0  18.5    NaN         NaN   NaN  ...   \n",
       "3  124.0  100.0   NaN  97.0  70.0  55.0  16.0    NaN         NaN   NaN  ...   \n",
       "4   98.0  100.0   NaN  95.0  73.0  62.0  18.0    NaN         NaN   NaN  ...   \n",
       "\n",
       "   Fibrinogen  Platelets  Age  Gender  Unit1  Unit2  HospAdmTime  ICULOS  \\\n",
       "0         NaN        NaN   59       1    1.0    0.0        -6.01       1   \n",
       "1         NaN        NaN   59       1    1.0    0.0        -6.01       2   \n",
       "2         NaN        NaN   59       1    1.0    0.0        -6.01       3   \n",
       "3         NaN        NaN   59       1    1.0    0.0        -6.01       4   \n",
       "4         NaN      276.0   59       1    1.0    0.0        -6.01       5   \n",
       "\n",
       "   SepsisLabel      id  \n",
       "0            0  116812  \n",
       "1            0  116812  \n",
       "2            0  116812  \n",
       "3            0  116812  \n",
       "4            0  116812  \n",
       "\n",
       "[5 rows x 42 columns]"
      ]
     },
     "execution_count": 2,
     "metadata": {},
     "output_type": "execute_result"
    }
   ],
   "source": [
    "current_working_dir = os.getcwd()\n",
    "training_ds_dir_new = \"training_setB\"\n",
    "# training_ds_dir_new = \"test_b\"\n",
    "training_setB_path = os.path.join(current_working_dir, training_ds_dir_new)\n",
    "files = [f for f in os.listdir(training_setB_path) if os.path.isfile(os.path.join(training_setB_path, f))]\n",
    "\n",
    "files = files[:100]\n",
    "\n",
    "# build list of dataframes, adding \"id\" column\n",
    "dfs_b = [pd.read_csv(os.path.join(training_setB_path, f), sep='|', index_col=None).assign(id=f[1:7]) for f in files]\n",
    "# concatenate dataframes into one\n",
    "df_b = pd.concat(dfs_b, sort=False, ignore_index= True)\n",
    "# write to csv\n",
    "df_b.to_csv('train_b.csv', index=False)\n",
    "# read into dataframe\n",
    "test_b_df = pd.read_csv('train_b.csv', sep= ',')\n",
    "\n",
    "test_b_df.head()"
   ]
  },
  {
   "cell_type": "code",
   "execution_count": 3,
   "metadata": {},
   "outputs": [],
   "source": [
    "train_a_df.fillna(0, inplace=True)\n",
    "test_b_df.fillna(0, inplace=True)"
   ]
  },
  {
   "cell_type": "code",
   "execution_count": 4,
   "metadata": {},
   "outputs": [
    {
     "data": {
      "text/plain": [
       "0    3730\n",
       "1      55\n",
       "Name: SepsisLabel, dtype: int64"
      ]
     },
     "execution_count": 4,
     "metadata": {},
     "output_type": "execute_result"
    }
   ],
   "source": [
    "train_a_df['SepsisLabel'].value_counts()"
   ]
  },
  {
   "cell_type": "code",
   "execution_count": 5,
   "metadata": {},
   "outputs": [
    {
     "data": {
      "text/plain": [
       "([<matplotlib.axis.XTick at 0x1161afad0>,\n",
       "  <matplotlib.axis.XTick at 0x1161af250>],\n",
       " <a list of 2 Text xticklabel objects>)"
      ]
     },
     "execution_count": 5,
     "metadata": {},
     "output_type": "execute_result"
    },
    {
     "data": {
      "image/png": "[encoded data removed]",
      "text/plain": [
       "<Figure size 432x288 with 1 Axes>"
      ]
     },
     "metadata": {},
     "output_type": "display_data"
    }
   ],
   "source": [
    "import seaborn as sns\n",
    "import matplotlib.pyplot as plt\n",
    "%matplotlib inline \n",
    "\n",
    "sns.set_style('darkgrid')\n",
    "\n",
    "# countplot to see the level of sepsis\n",
    "sns.countplot(x='SepsisLabel', data= train_a_df)\n",
    "Labels= ('No Sepsis', 'Sepsis')\n",
    "plt.xticks(range(2), Labels)"
   ]
  },
  {
   "cell_type": "code",
   "execution_count": 6,
   "metadata": {},
   "outputs": [
    {
     "data": {
      "text/plain": [
       "<matplotlib.axes._subplots.AxesSubplot at 0x1a16f7de50>"
      ]
     },
     "execution_count": 6,
     "metadata": {},
     "output_type": "execute_result"
    },
    {
     "data": {
      "image/png": "[encoded data removed]",
      "text/plain": [
       "<Figure size 432x288 with 1 Axes>"
      ]
     },
     "metadata": {
      "needs_background": "light"
     },
     "output_type": "display_data"
    }
   ],
   "source": [
    "sns.countplot(x='SepsisLabel', hue='Gender', data= train_a_df, palette='RdBu_r')"
   ]
  },
  {
   "cell_type": "code",
   "execution_count": 7,
   "metadata": {},
   "outputs": [
    {
     "data": {
      "text/plain": [
       "<matplotlib.axes._subplots.AxesSubplot at 0x1a16efe090>"
      ]
     },
     "execution_count": 7,
     "metadata": {},
     "output_type": "execute_result"
    },
    {
     "data": {
      "image/png": "[encoded data removed]",
      "text/plain": [
       "<Figure size 432x288 with 1 Axes>"
      ]
     },
     "metadata": {
      "needs_background": "light"
     },
     "output_type": "display_data"
    }
   ],
   "source": [
    "# age distribution of the patients\n",
    "sns.distplot(train_a_df['Age'].dropna(), color='darkred', bins= 30)"
   ]
  },
  {
   "cell_type": "code",
   "execution_count": 8,
   "metadata": {},
   "outputs": [],
   "source": [
    "X_train = train_a_df.drop(['SepsisLabel'], axis=1).values\n",
    "y_train = train_a_df['SepsisLabel'].values\n",
    "\n",
    "X_test = test_b_df.drop(['SepsisLabel'], axis=1).values\n",
    "y_test = test_b_df['SepsisLabel'].values"
   ]
  },
  {
   "cell_type": "code",
   "execution_count": 9,
   "metadata": {},
   "outputs": [
    {
     "name": "stdout",
     "output_type": "stream",
     "text": [
      "the confusion matrix i : \n",
      " [[4250    1]\n",
      " [  49    0]]\n",
      "the classification report : \n",
      "               precision    recall  f1-score   support\n",
      "\n",
      "           0       0.99      1.00      0.99      4251\n",
      "           1       0.00      0.00      0.00        49\n",
      "\n",
      "    accuracy                           0.99      4300\n",
      "   macro avg       0.49      0.50      0.50      4300\n",
      "weighted avg       0.98      0.99      0.98      4300\n",
      "\n",
      "accuracy_score on test dataset :  0.9883720930232558\n"
     ]
    },
    {
     "name": "stderr",
     "output_type": "stream",
     "text": [
      "/opt/anaconda3/lib/python3.7/site-packages/sklearn/linear_model/logistic.py:947: ConvergenceWarning: lbfgs failed to converge. Increase the number of iterations.\n",
      "  \"of iterations.\", ConvergenceWarning)\n"
     ]
    }
   ],
   "source": [
    "from sklearn.linear_model import LogisticRegression\n",
    "from sklearn.metrics import classification_report\n",
    "from sklearn.metrics import accuracy_score\n",
    "from sklearn.metrics import confusion_matrix \n",
    "\n",
    "log_reg = LogisticRegression(solver='lbfgs')\n",
    "\n",
    "log_reg.fit(X_train,y_train)\n",
    "\n",
    "y_pred = log_reg.predict(X_test)\n",
    "\n",
    "accuracy_val = accuracy_score(y_pred, y_test)\n",
    "cm = confusion_matrix(y_test, y_pred)\n",
    "\n",
    "print('the confusion matrix i : \\n', cm)\n",
    "print('the classification report : \\n', classification_report(y_test, y_pred))\n",
    "print('accuracy_score on test dataset : ', accuracy_val)"
   ]
  },
  {
   "cell_type": "code",
   "execution_count": 10,
   "metadata": {
    "scrolled": true
   },
   "outputs": [],
   "source": [
    "from sklearn.metrics import roc_auc_score\n",
    "from sklearn.metrics import roc_curve\n",
    "from sklearn.metrics import precision_recall_curve\n",
    "\n",
    "y_pred_prob = log_reg.predict_proba(X_test)[:,1]"
   ]
  },
  {
   "cell_type": "code",
   "execution_count": 11,
   "metadata": {},
   "outputs": [
    {
     "name": "stdout",
     "output_type": "stream",
     "text": [
      "Threshold : 0.0\n",
      "[[   0 4251]\n",
      " [   0   49]]\n",
      "Threshold : 0.1\n",
      "[[4250    1]\n",
      " [  49    0]]\n",
      "Threshold : 0.2\n",
      "[[4250    1]\n",
      " [  49    0]]\n",
      "Threshold : 0.30000000000000004\n",
      "[[4250    1]\n",
      " [  49    0]]\n",
      "Threshold : 0.4\n",
      "[[4250    1]\n",
      " [  49    0]]\n",
      "Threshold : 0.5\n",
      "[[4250    1]\n",
      " [  49    0]]\n",
      "Threshold : 0.6000000000000001\n",
      "[[4250    1]\n",
      " [  49    0]]\n",
      "Threshold : 0.7000000000000001\n",
      "[[4250    1]\n",
      " [  49    0]]\n",
      "Threshold : 0.8\n",
      "[[4251    0]\n",
      " [  49    0]]\n",
      "Threshold : 0.9\n",
      "[[4251    0]\n",
      " [  49    0]]\n"
     ]
    }
   ],
   "source": [
    "def predict_threshold (model,X_test,thresholds):\n",
    "    \n",
    "    return np.where(model.predict_proba(X_test)[:,1]>thresholds,1,0)\n",
    "\n",
    "\n",
    "for thr in np.arange(0.0,1.0,0.1):\n",
    "    y_predict = predict_threshold(log_reg,X_test,thr)\n",
    "    print(\"Threshold :\",thr)\n",
    "    print(confusion_matrix(y_test,y_predict))"
   ]
  },
  {
   "cell_type": "code",
   "execution_count": 12,
   "metadata": {},
   "outputs": [
    {
     "name": "stdout",
     "output_type": "stream",
     "text": [
      "The AUROC score : 0.898640896019664\n"
     ]
    },
    {
     "data": {
      "image/png": "[encoded data removed]",
      "text/plain": [
       "<Figure size 432x288 with 1 Axes>"
      ]
     },
     "metadata": {
      "needs_background": "light"
     },
     "output_type": "display_data"
    }
   ],
   "source": [
    "tpr,fpr,thresholds = roc_curve(y_test, y_pred_prob)\n",
    "log_roc_scr = roc_auc_score(y_test, y_pred_prob)\n",
    "print(\"The AUROC score :\", log_roc_scr)\n",
    "\n",
    "fpr, tpr, thresholds = roc_curve(y_test, y_pred_prob, drop_intermediate=False)\n",
    "plt.xlim([0.0, 1.0])\n",
    "plt.ylim([0.0, 1.0])\n",
    "plt.title('ROC curve for sepsis prediction classifier')\n",
    "plt.xlabel('False Positive Rate (1 - Specificity)')\n",
    "plt.ylabel('True Positive Rate (Sensitivity)')\n",
    "plt.plot(fpr, tpr, color='red', lw=3)\n",
    "plt.show()"
   ]
  },
  {
   "cell_type": "code",
   "execution_count": 13,
   "metadata": {},
   "outputs": [],
   "source": [
    "y_test = pd.DataFrame(y_test, index=None, columns=['SepsisLabel'])\n",
    "y_test.to_csv('scoring_labels' + '.psv', sep='|', index=False) \n",
    "\n",
    "\n",
    "prob_df = pd.DataFrame(y_pred_prob,index=None, columns=['PredictedProbability'])\n",
    "label_df = pd.DataFrame(y_pred,index=None, columns=['PredictedLabel'])\n",
    "\n",
    "score_df = pd.concat([prob_df, label_df], axis=1)\n",
    "\n",
    "score_df.to_csv('scoring_predictions' + '.psv', sep='|', index=False)"
   ]
  },
  {
   "cell_type": "code",
   "execution_count": null,
   "metadata": {},
   "outputs": [],
   "source": []
  }
 ],
 "metadata": {
  "kernelspec": {
   "display_name": "Python 3",
   "language": "python",
   "name": "python3"
  },
  "language_info": {
   "codemirror_mode": {
    "name": "ipython",
    "version": 3
   },
   "file_extension": ".py",
   "mimetype": "text/x-python",
   "name": "python",
   "nbconvert_exporter": "python",
   "pygments_lexer": "ipython3",
   "version": "3.7.4"
  }
 },
 "nbformat": 4,
 "nbformat_minor": 2
}
